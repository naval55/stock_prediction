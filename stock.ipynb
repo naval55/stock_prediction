{
  "nbformat": 4,
  "nbformat_minor": 0,
  "metadata": {
    "colab": {
      "provenance": [],
      "authorship_tag": "ABX9TyOQmCVXECUaYCY0uN/hDHTv",
      "include_colab_link": true
    },
    "kernelspec": {
      "name": "python3",
      "display_name": "Python 3"
    },
    "language_info": {
      "name": "python"
    }
  },
  "cells": [
    {
      "cell_type": "markdown",
      "metadata": {
        "id": "view-in-github",
        "colab_type": "text"
      },
      "source": [
        "<a href=\"https://colab.research.google.com/github/naval55/stock_prediction/blob/main/stock.ipynb\" target=\"_parent\"><img src=\"https://colab.research.google.com/assets/colab-badge.svg\" alt=\"Open In Colab\"/></a>"
      ]
    },
    {
      "cell_type": "code",
      "source": [
        "!pip install -U kaleido"
      ],
      "metadata": {
        "colab": {
          "base_uri": "https://localhost:8080/"
        },
        "id": "rjoW86a5CPgE",
        "outputId": "ff50fe25-3ba8-47ee-b0b5-62a1ae084413"
      },
      "execution_count": 1,
      "outputs": [
        {
          "output_type": "stream",
          "name": "stdout",
          "text": [
            "Looking in indexes: https://pypi.org/simple, https://us-python.pkg.dev/colab-wheels/public/simple/\n",
            "Collecting kaleido\n",
            "  Downloading kaleido-0.2.1-py2.py3-none-manylinux1_x86_64.whl (79.9 MB)\n",
            "\u001b[2K     \u001b[90m━━━━━━━━━━━━━━━━━━━━━━━━━━━━━━━━━━━━━━━━\u001b[0m \u001b[32m79.9/79.9 MB\u001b[0m \u001b[31m8.5 MB/s\u001b[0m eta \u001b[36m0:00:00\u001b[0m\n",
            "\u001b[?25hInstalling collected packages: kaleido\n",
            "Successfully installed kaleido-0.2.1\n"
          ]
        }
      ]
    },
    {
      "cell_type": "code",
      "execution_count": 1,
      "metadata": {
        "id": "zbV6uRt14_d2"
      },
      "outputs": [],
      "source": [
        "import pandas as pd\n",
        "import numpy as np\n",
        "import matplotlib.pyplot as plt"
      ]
    },
    {
      "cell_type": "code",
      "source": [
        "netflix_stock_data = pd.read_csv('../content/input/NFLX.csv')\n",
        "netflix_stock_data.head()"
      ],
      "metadata": {
        "colab": {
          "base_uri": "https://localhost:8080/",
          "height": 206
        },
        "id": "OS87td_e5C5J",
        "outputId": "0bed78fa-d28e-4321-f93d-e30f07c27e31"
      },
      "execution_count": 2,
      "outputs": [
        {
          "output_type": "execute_result",
          "data": {
            "text/plain": [
              "         Date      Open      High       Low     Close  Adj Close     Volume\n",
              "0  2002-05-23  1.156429  1.242857  1.145714  1.196429   1.196429  104790000\n",
              "1  2002-05-24  1.214286  1.225000  1.197143  1.210000   1.210000   11104800\n",
              "2  2002-05-28  1.213571  1.232143  1.157143  1.157143   1.157143    6609400\n",
              "3  2002-05-29  1.164286  1.164286  1.085714  1.103571   1.103571    6757800\n",
              "4  2002-05-30  1.107857  1.107857  1.071429  1.071429   1.071429   10154200"
            ],
            "text/html": [
              "\n",
              "  <div id=\"df-bcf31980-b01f-49a7-9b3a-25bd12e88425\">\n",
              "    <div class=\"colab-df-container\">\n",
              "      <div>\n",
              "<style scoped>\n",
              "    .dataframe tbody tr th:only-of-type {\n",
              "        vertical-align: middle;\n",
              "    }\n",
              "\n",
              "    .dataframe tbody tr th {\n",
              "        vertical-align: top;\n",
              "    }\n",
              "\n",
              "    .dataframe thead th {\n",
              "        text-align: right;\n",
              "    }\n",
              "</style>\n",
              "<table border=\"1\" class=\"dataframe\">\n",
              "  <thead>\n",
              "    <tr style=\"text-align: right;\">\n",
              "      <th></th>\n",
              "      <th>Date</th>\n",
              "      <th>Open</th>\n",
              "      <th>High</th>\n",
              "      <th>Low</th>\n",
              "      <th>Close</th>\n",
              "      <th>Adj Close</th>\n",
              "      <th>Volume</th>\n",
              "    </tr>\n",
              "  </thead>\n",
              "  <tbody>\n",
              "    <tr>\n",
              "      <th>0</th>\n",
              "      <td>2002-05-23</td>\n",
              "      <td>1.156429</td>\n",
              "      <td>1.242857</td>\n",
              "      <td>1.145714</td>\n",
              "      <td>1.196429</td>\n",
              "      <td>1.196429</td>\n",
              "      <td>104790000</td>\n",
              "    </tr>\n",
              "    <tr>\n",
              "      <th>1</th>\n",
              "      <td>2002-05-24</td>\n",
              "      <td>1.214286</td>\n",
              "      <td>1.225000</td>\n",
              "      <td>1.197143</td>\n",
              "      <td>1.210000</td>\n",
              "      <td>1.210000</td>\n",
              "      <td>11104800</td>\n",
              "    </tr>\n",
              "    <tr>\n",
              "      <th>2</th>\n",
              "      <td>2002-05-28</td>\n",
              "      <td>1.213571</td>\n",
              "      <td>1.232143</td>\n",
              "      <td>1.157143</td>\n",
              "      <td>1.157143</td>\n",
              "      <td>1.157143</td>\n",
              "      <td>6609400</td>\n",
              "    </tr>\n",
              "    <tr>\n",
              "      <th>3</th>\n",
              "      <td>2002-05-29</td>\n",
              "      <td>1.164286</td>\n",
              "      <td>1.164286</td>\n",
              "      <td>1.085714</td>\n",
              "      <td>1.103571</td>\n",
              "      <td>1.103571</td>\n",
              "      <td>6757800</td>\n",
              "    </tr>\n",
              "    <tr>\n",
              "      <th>4</th>\n",
              "      <td>2002-05-30</td>\n",
              "      <td>1.107857</td>\n",
              "      <td>1.107857</td>\n",
              "      <td>1.071429</td>\n",
              "      <td>1.071429</td>\n",
              "      <td>1.071429</td>\n",
              "      <td>10154200</td>\n",
              "    </tr>\n",
              "  </tbody>\n",
              "</table>\n",
              "</div>\n",
              "      <button class=\"colab-df-convert\" onclick=\"convertToInteractive('df-bcf31980-b01f-49a7-9b3a-25bd12e88425')\"\n",
              "              title=\"Convert this dataframe to an interactive table.\"\n",
              "              style=\"display:none;\">\n",
              "        \n",
              "  <svg xmlns=\"http://www.w3.org/2000/svg\" height=\"24px\"viewBox=\"0 0 24 24\"\n",
              "       width=\"24px\">\n",
              "    <path d=\"M0 0h24v24H0V0z\" fill=\"none\"/>\n",
              "    <path d=\"M18.56 5.44l.94 2.06.94-2.06 2.06-.94-2.06-.94-.94-2.06-.94 2.06-2.06.94zm-11 1L8.5 8.5l.94-2.06 2.06-.94-2.06-.94L8.5 2.5l-.94 2.06-2.06.94zm10 10l.94 2.06.94-2.06 2.06-.94-2.06-.94-.94-2.06-.94 2.06-2.06.94z\"/><path d=\"M17.41 7.96l-1.37-1.37c-.4-.4-.92-.59-1.43-.59-.52 0-1.04.2-1.43.59L10.3 9.45l-7.72 7.72c-.78.78-.78 2.05 0 2.83L4 21.41c.39.39.9.59 1.41.59.51 0 1.02-.2 1.41-.59l7.78-7.78 2.81-2.81c.8-.78.8-2.07 0-2.86zM5.41 20L4 18.59l7.72-7.72 1.47 1.35L5.41 20z\"/>\n",
              "  </svg>\n",
              "      </button>\n",
              "      \n",
              "  <style>\n",
              "    .colab-df-container {\n",
              "      display:flex;\n",
              "      flex-wrap:wrap;\n",
              "      gap: 12px;\n",
              "    }\n",
              "\n",
              "    .colab-df-convert {\n",
              "      background-color: #E8F0FE;\n",
              "      border: none;\n",
              "      border-radius: 50%;\n",
              "      cursor: pointer;\n",
              "      display: none;\n",
              "      fill: #1967D2;\n",
              "      height: 32px;\n",
              "      padding: 0 0 0 0;\n",
              "      width: 32px;\n",
              "    }\n",
              "\n",
              "    .colab-df-convert:hover {\n",
              "      background-color: #E2EBFA;\n",
              "      box-shadow: 0px 1px 2px rgba(60, 64, 67, 0.3), 0px 1px 3px 1px rgba(60, 64, 67, 0.15);\n",
              "      fill: #174EA6;\n",
              "    }\n",
              "\n",
              "    [theme=dark] .colab-df-convert {\n",
              "      background-color: #3B4455;\n",
              "      fill: #D2E3FC;\n",
              "    }\n",
              "\n",
              "    [theme=dark] .colab-df-convert:hover {\n",
              "      background-color: #434B5C;\n",
              "      box-shadow: 0px 1px 3px 1px rgba(0, 0, 0, 0.15);\n",
              "      filter: drop-shadow(0px 1px 2px rgba(0, 0, 0, 0.3));\n",
              "      fill: #FFFFFF;\n",
              "    }\n",
              "  </style>\n",
              "\n",
              "      <script>\n",
              "        const buttonEl =\n",
              "          document.querySelector('#df-bcf31980-b01f-49a7-9b3a-25bd12e88425 button.colab-df-convert');\n",
              "        buttonEl.style.display =\n",
              "          google.colab.kernel.accessAllowed ? 'block' : 'none';\n",
              "\n",
              "        async function convertToInteractive(key) {\n",
              "          const element = document.querySelector('#df-bcf31980-b01f-49a7-9b3a-25bd12e88425');\n",
              "          const dataTable =\n",
              "            await google.colab.kernel.invokeFunction('convertToInteractive',\n",
              "                                                     [key], {});\n",
              "          if (!dataTable) return;\n",
              "\n",
              "          const docLinkHtml = 'Like what you see? Visit the ' +\n",
              "            '<a target=\"_blank\" href=https://colab.research.google.com/notebooks/data_table.ipynb>data table notebook</a>'\n",
              "            + ' to learn more about interactive tables.';\n",
              "          element.innerHTML = '';\n",
              "          dataTable['output_type'] = 'display_data';\n",
              "          await google.colab.output.renderOutput(dataTable, element);\n",
              "          const docLink = document.createElement('div');\n",
              "          docLink.innerHTML = docLinkHtml;\n",
              "          element.appendChild(docLink);\n",
              "        }\n",
              "      </script>\n",
              "    </div>\n",
              "  </div>\n",
              "  "
            ]
          },
          "metadata": {},
          "execution_count": 2
        }
      ]
    },
    {
      "cell_type": "code",
      "source": [
        "netflix_stock_data.info()"
      ],
      "metadata": {
        "colab": {
          "base_uri": "https://localhost:8080/"
        },
        "id": "kg2mVoeM5xs6",
        "outputId": "4b5ea11d-9209-49a6-93cf-a3d17db475f7"
      },
      "execution_count": 3,
      "outputs": [
        {
          "output_type": "stream",
          "name": "stdout",
          "text": [
            "<class 'pandas.core.frame.DataFrame'>\n",
            "RangeIndex: 5044 entries, 0 to 5043\n",
            "Data columns (total 7 columns):\n",
            " #   Column     Non-Null Count  Dtype  \n",
            "---  ------     --------------  -----  \n",
            " 0   Date       5044 non-null   object \n",
            " 1   Open       5044 non-null   float64\n",
            " 2   High       5044 non-null   float64\n",
            " 3   Low        5044 non-null   float64\n",
            " 4   Close      5044 non-null   float64\n",
            " 5   Adj Close  5044 non-null   float64\n",
            " 6   Volume     5044 non-null   int64  \n",
            "dtypes: float64(5), int64(1), object(1)\n",
            "memory usage: 276.0+ KB\n"
          ]
        }
      ]
    },
    {
      "cell_type": "code",
      "source": [
        "netflix_stock_data.info()"
      ],
      "metadata": {
        "colab": {
          "base_uri": "https://localhost:8080/"
        },
        "id": "EWS-1TFlBa_w",
        "outputId": "e163a23e-367c-4f18-f86e-748a63d1a413"
      },
      "execution_count": 4,
      "outputs": [
        {
          "output_type": "stream",
          "name": "stdout",
          "text": [
            "<class 'pandas.core.frame.DataFrame'>\n",
            "RangeIndex: 5044 entries, 0 to 5043\n",
            "Data columns (total 7 columns):\n",
            " #   Column     Non-Null Count  Dtype  \n",
            "---  ------     --------------  -----  \n",
            " 0   Date       5044 non-null   object \n",
            " 1   Open       5044 non-null   float64\n",
            " 2   High       5044 non-null   float64\n",
            " 3   Low        5044 non-null   float64\n",
            " 4   Close      5044 non-null   float64\n",
            " 5   Adj Close  5044 non-null   float64\n",
            " 6   Volume     5044 non-null   int64  \n",
            "dtypes: float64(5), int64(1), object(1)\n",
            "memory usage: 276.0+ KB\n"
          ]
        }
      ]
    },
    {
      "cell_type": "code",
      "source": [
        "netflix_stock_data = netflix_stock_data[['Date','Open','Close']]\n",
        "netflix_stock_data['Date'] = pd.to_datetime(netflix_stock_data['Date'].apply(lambda x: x.split()[0]))\n",
        "netflix_stock_data.set_index('Date',drop=True,inplace=True)\n",
        "netflix_stock_data.head()"
      ],
      "metadata": {
        "colab": {
          "base_uri": "https://localhost:8080/",
          "height": 365
        },
        "id": "6CrlLTQ_B7Ov",
        "outputId": "49db4b56-977a-4b69-92c9-16e947563e17"
      },
      "execution_count": 5,
      "outputs": [
        {
          "output_type": "stream",
          "name": "stderr",
          "text": [
            "<ipython-input-5-4d6d7059876d>:2: SettingWithCopyWarning: \n",
            "A value is trying to be set on a copy of a slice from a DataFrame.\n",
            "Try using .loc[row_indexer,col_indexer] = value instead\n",
            "\n",
            "See the caveats in the documentation: https://pandas.pydata.org/pandas-docs/stable/user_guide/indexing.html#returning-a-view-versus-a-copy\n",
            "  netflix_stock_data['Date'] = pd.to_datetime(netflix_stock_data['Date'].apply(lambda x: x.split()[0])) # Selecting only date\n"
          ]
        },
        {
          "output_type": "execute_result",
          "data": {
            "text/plain": [
              "                Open     Close\n",
              "Date                          \n",
              "2002-05-23  1.156429  1.196429\n",
              "2002-05-24  1.214286  1.210000\n",
              "2002-05-28  1.213571  1.157143\n",
              "2002-05-29  1.164286  1.103571\n",
              "2002-05-30  1.107857  1.071429"
            ],
            "text/html": [
              "\n",
              "  <div id=\"df-48296ca6-3e38-4ef2-951f-1c59080164db\">\n",
              "    <div class=\"colab-df-container\">\n",
              "      <div>\n",
              "<style scoped>\n",
              "    .dataframe tbody tr th:only-of-type {\n",
              "        vertical-align: middle;\n",
              "    }\n",
              "\n",
              "    .dataframe tbody tr th {\n",
              "        vertical-align: top;\n",
              "    }\n",
              "\n",
              "    .dataframe thead th {\n",
              "        text-align: right;\n",
              "    }\n",
              "</style>\n",
              "<table border=\"1\" class=\"dataframe\">\n",
              "  <thead>\n",
              "    <tr style=\"text-align: right;\">\n",
              "      <th></th>\n",
              "      <th>Open</th>\n",
              "      <th>Close</th>\n",
              "    </tr>\n",
              "    <tr>\n",
              "      <th>Date</th>\n",
              "      <th></th>\n",
              "      <th></th>\n",
              "    </tr>\n",
              "  </thead>\n",
              "  <tbody>\n",
              "    <tr>\n",
              "      <th>2002-05-23</th>\n",
              "      <td>1.156429</td>\n",
              "      <td>1.196429</td>\n",
              "    </tr>\n",
              "    <tr>\n",
              "      <th>2002-05-24</th>\n",
              "      <td>1.214286</td>\n",
              "      <td>1.210000</td>\n",
              "    </tr>\n",
              "    <tr>\n",
              "      <th>2002-05-28</th>\n",
              "      <td>1.213571</td>\n",
              "      <td>1.157143</td>\n",
              "    </tr>\n",
              "    <tr>\n",
              "      <th>2002-05-29</th>\n",
              "      <td>1.164286</td>\n",
              "      <td>1.103571</td>\n",
              "    </tr>\n",
              "    <tr>\n",
              "      <th>2002-05-30</th>\n",
              "      <td>1.107857</td>\n",
              "      <td>1.071429</td>\n",
              "    </tr>\n",
              "  </tbody>\n",
              "</table>\n",
              "</div>\n",
              "      <button class=\"colab-df-convert\" onclick=\"convertToInteractive('df-48296ca6-3e38-4ef2-951f-1c59080164db')\"\n",
              "              title=\"Convert this dataframe to an interactive table.\"\n",
              "              style=\"display:none;\">\n",
              "        \n",
              "  <svg xmlns=\"http://www.w3.org/2000/svg\" height=\"24px\"viewBox=\"0 0 24 24\"\n",
              "       width=\"24px\">\n",
              "    <path d=\"M0 0h24v24H0V0z\" fill=\"none\"/>\n",
              "    <path d=\"M18.56 5.44l.94 2.06.94-2.06 2.06-.94-2.06-.94-.94-2.06-.94 2.06-2.06.94zm-11 1L8.5 8.5l.94-2.06 2.06-.94-2.06-.94L8.5 2.5l-.94 2.06-2.06.94zm10 10l.94 2.06.94-2.06 2.06-.94-2.06-.94-.94-2.06-.94 2.06-2.06.94z\"/><path d=\"M17.41 7.96l-1.37-1.37c-.4-.4-.92-.59-1.43-.59-.52 0-1.04.2-1.43.59L10.3 9.45l-7.72 7.72c-.78.78-.78 2.05 0 2.83L4 21.41c.39.39.9.59 1.41.59.51 0 1.02-.2 1.41-.59l7.78-7.78 2.81-2.81c.8-.78.8-2.07 0-2.86zM5.41 20L4 18.59l7.72-7.72 1.47 1.35L5.41 20z\"/>\n",
              "  </svg>\n",
              "      </button>\n",
              "      \n",
              "  <style>\n",
              "    .colab-df-container {\n",
              "      display:flex;\n",
              "      flex-wrap:wrap;\n",
              "      gap: 12px;\n",
              "    }\n",
              "\n",
              "    .colab-df-convert {\n",
              "      background-color: #E8F0FE;\n",
              "      border: none;\n",
              "      border-radius: 50%;\n",
              "      cursor: pointer;\n",
              "      display: none;\n",
              "      fill: #1967D2;\n",
              "      height: 32px;\n",
              "      padding: 0 0 0 0;\n",
              "      width: 32px;\n",
              "    }\n",
              "\n",
              "    .colab-df-convert:hover {\n",
              "      background-color: #E2EBFA;\n",
              "      box-shadow: 0px 1px 2px rgba(60, 64, 67, 0.3), 0px 1px 3px 1px rgba(60, 64, 67, 0.15);\n",
              "      fill: #174EA6;\n",
              "    }\n",
              "\n",
              "    [theme=dark] .colab-df-convert {\n",
              "      background-color: #3B4455;\n",
              "      fill: #D2E3FC;\n",
              "    }\n",
              "\n",
              "    [theme=dark] .colab-df-convert:hover {\n",
              "      background-color: #434B5C;\n",
              "      box-shadow: 0px 1px 3px 1px rgba(0, 0, 0, 0.15);\n",
              "      filter: drop-shadow(0px 1px 2px rgba(0, 0, 0, 0.3));\n",
              "      fill: #FFFFFF;\n",
              "    }\n",
              "  </style>\n",
              "\n",
              "      <script>\n",
              "        const buttonEl =\n",
              "          document.querySelector('#df-48296ca6-3e38-4ef2-951f-1c59080164db button.colab-df-convert');\n",
              "        buttonEl.style.display =\n",
              "          google.colab.kernel.accessAllowed ? 'block' : 'none';\n",
              "\n",
              "        async function convertToInteractive(key) {\n",
              "          const element = document.querySelector('#df-48296ca6-3e38-4ef2-951f-1c59080164db');\n",
              "          const dataTable =\n",
              "            await google.colab.kernel.invokeFunction('convertToInteractive',\n",
              "                                                     [key], {});\n",
              "          if (!dataTable) return;\n",
              "\n",
              "          const docLinkHtml = 'Like what you see? Visit the ' +\n",
              "            '<a target=\"_blank\" href=https://colab.research.google.com/notebooks/data_table.ipynb>data table notebook</a>'\n",
              "            + ' to learn more about interactive tables.';\n",
              "          element.innerHTML = '';\n",
              "          dataTable['output_type'] = 'display_data';\n",
              "          await google.colab.output.renderOutput(dataTable, element);\n",
              "          const docLink = document.createElement('div');\n",
              "          docLink.innerHTML = docLinkHtml;\n",
              "          element.appendChild(docLink);\n",
              "        }\n",
              "      </script>\n",
              "    </div>\n",
              "  </div>\n",
              "  "
            ]
          },
          "metadata": {},
          "execution_count": 5
        }
      ]
    },
    {
      "cell_type": "code",
      "source": [
        "fg, ax =plt.subplots(1,2,figsize=(20,7))\n",
        "ax[0].plot(netflix_stock_data['Open'],label='Open',color='green')\n",
        "ax[0].set_xlabel('Date',size=15)\n",
        "ax[0].set_ylabel('Price',size=10)\n",
        "ax[0].legend()\n",
        "\n",
        "ax[1].plot(netflix_stock_data['Close'],label='Close',color='red')\n",
        "ax[1].set_xlabel('Date',size=10)\n",
        "ax[1].set_ylabel('Price',size=10)\n",
        "ax[1].legend()\n",
        "\n",
        "fg.show()"
      ],
      "metadata": {
        "colab": {
          "base_uri": "https://localhost:8080/",
          "height": 394
        },
        "id": "wj6Jc9FpCMEb",
        "outputId": "1c5011a3-114d-4436-fddd-12b5b400b1b7"
      },
      "execution_count": 6,
      "outputs": [
        {
          "output_type": "display_data",
          "data": {
            "text/plain": [
              "<Figure size 1440x504 with 2 Axes>"
            ],
            "image/png": "[encoded data removed]"
          },
          "metadata": {
            "needs_background": "light"
          }
        }
      ]
    },
    {
      "cell_type": "code",
      "source": [
        "from sklearn.preprocessing import MinMaxScaler\n",
        "MMS = MinMaxScaler()\n",
        "netflix_stock_data[netflix_stock_data.columns] = MMS.fit_transform(netflix_stock_data)"
      ],
      "metadata": {
        "id": "dGa2RkM4D3G1"
      },
      "execution_count": 7,
      "outputs": []
    },
    {
      "cell_type": "code",
      "source": [
        "netflix_stock_data.shape"
      ],
      "metadata": {
        "colab": {
          "base_uri": "https://localhost:8080/"
        },
        "id": "kP_g1tn5D3kk",
        "outputId": "965b0e03-458b-4ad1-a9c3-4850a2cf40e7"
      },
      "execution_count": 8,
      "outputs": [
        {
          "output_type": "execute_result",
          "data": {
            "text/plain": [
              "(5044, 2)"
            ]
          },
          "metadata": {},
          "execution_count": 8
        }
      ]
    },
    {
      "cell_type": "code",
      "source": [
        "training_size = round(len(netflix_stock_data) * 0.70)\n",
        "training_size"
      ],
      "metadata": {
        "colab": {
          "base_uri": "https://localhost:8080/"
        },
        "id": "ZFNF0PdYD521",
        "outputId": "4a5e1c7b-dac7-4a3d-82be-c60dce7b8428"
      },
      "execution_count": 29,
      "outputs": [
        {
          "output_type": "execute_result",
          "data": {
            "text/plain": [
              "3531"
            ]
          },
          "metadata": {},
          "execution_count": 29
        }
      ]
    },
    {
      "cell_type": "code",
      "source": [
        "train_data = netflix_stock_data[:training_size]\n",
        "test_data  = netflix_stock_data[training_size:]\n",
        "\n",
        "train_data.shape, test_data.shape"
      ],
      "metadata": {
        "colab": {
          "base_uri": "https://localhost:8080/"
        },
        "id": "WTjc8LZ3D7s-",
        "outputId": "920122fc-22a8-4d77-8c7b-7ac7d2edd3b0"
      },
      "execution_count": 30,
      "outputs": [
        {
          "output_type": "execute_result",
          "data": {
            "text/plain": [
              "((3531, 2), (1513, 2))"
            ]
          },
          "metadata": {},
          "execution_count": 30
        }
      ]
    },
    {
      "cell_type": "code",
      "source": [
        "\n",
        "def create_sequence(dataset):\n",
        "  sequences = []\n",
        "  labels = []\n",
        "\n",
        "  start_idx = 0\n",
        "\n",
        "  for stop_idx in range(50,len(dataset)):\n",
        "    sequences.append(dataset.iloc[start_idx:stop_idx])\n",
        "    labels.append(dataset.iloc[stop_idx])\n",
        "    start_idx += 1\n",
        "  return (np.array(sequences),np.array(labels))"
      ],
      "metadata": {
        "id": "80WJ4S8gD90A"
      },
      "execution_count": 31,
      "outputs": []
    },
    {
      "cell_type": "code",
      "source": [
        "train_seq, train_label = create_sequence(train_data)\n",
        "test_seq, test_label = create_sequence(test_data)"
      ],
      "metadata": {
        "id": "GJwq3ZZMD_32"
      },
      "execution_count": 32,
      "outputs": []
    },
    {
      "cell_type": "code",
      "source": [
        "train_seq.shape, train_label.shape, test_seq.shape, test_label.shape"
      ],
      "metadata": {
        "colab": {
          "base_uri": "https://localhost:8080/"
        },
        "id": "qAi5X2GdEBzM",
        "outputId": "cdd63566-5212-4b2e-b0d8-dfc4d0be5779"
      },
      "execution_count": 33,
      "outputs": [
        {
          "output_type": "execute_result",
          "data": {
            "text/plain": [
              "((3481, 50, 2), (3481, 2), (1463, 50, 2), (1463, 2))"
            ]
          },
          "metadata": {},
          "execution_count": 33
        }
      ]
    },
    {
      "cell_type": "code",
      "source": [
        "from keras.models import Sequential\n",
        "from keras.layers import Dense, Dropout, LSTM, Bidirectional"
      ],
      "metadata": {
        "id": "td_970KEED_t"
      },
      "execution_count": 34,
      "outputs": []
    },
    {
      "cell_type": "code",
      "source": [
        "model = Sequential()\n",
        "model.add(LSTM(units=50, return_sequences=True, input_shape = (train_seq.shape[1], train_seq.shape[2])))\n",
        "\n",
        "model.add(Dropout(0.1)) \n",
        "model.add(LSTM(units=50))\n",
        "\n",
        "model.add(Dense(2))\n",
        "\n",
        "model.compile(loss='mean_squared_error', optimizer='adam', metrics=['mean_absolute_error'])\n",
        "\n",
        "model.summary()"
      ],
      "metadata": {
        "colab": {
          "base_uri": "https://localhost:8080/"
        },
        "id": "2rWI0Te6EF4m",
        "outputId": "79b39e43-0906-4d23-ea43-cc376509166d"
      },
      "execution_count": 35,
      "outputs": [
        {
          "output_type": "stream",
          "name": "stdout",
          "text": [
            "Model: \"sequential_1\"\n",
            "_________________________________________________________________\n",
            " Layer (type)                Output Shape              Param #   \n",
            "=================================================================\n",
            " lstm_2 (LSTM)               (None, 50, 50)            10600     \n",
            "                                                                 \n",
            " dropout_1 (Dropout)         (None, 50, 50)            0         \n",
            "                                                                 \n",
            " lstm_3 (LSTM)               (None, 50)                20200     \n",
            "                                                                 \n",
            " dense_1 (Dense)             (None, 2)                 102       \n",
            "                                                                 \n",
            "=================================================================\n",
            "Total params: 30,902\n",
            "Trainable params: 30,902\n",
            "Non-trainable params: 0\n",
            "_________________________________________________________________\n"
          ]
        }
      ]
    },
    {
      "cell_type": "code",
      "source": [
        "model.fit(train_seq, train_label, epochs=25,validation_data=(test_seq, test_label), verbose=1)"
      ],
      "metadata": {
        "colab": {
          "base_uri": "https://localhost:8080/"
        },
        "id": "c9vWz0oEEKn5",
        "outputId": "b0345e17-2e27-4a94-c6f1-e167c78ac1ae"
      },
      "execution_count": 37,
      "outputs": [
        {
          "output_type": "stream",
          "name": "stdout",
          "text": [
            "Epoch 1/25\n",
            "109/109 [==============================] - 16s 146ms/step - loss: 8.2209e-06 - mean_absolute_error: 0.0017 - val_loss: 0.0029 - val_mean_absolute_error: 0.0412\n",
            "Epoch 2/25\n",
            "109/109 [==============================] - 11s 100ms/step - loss: 8.5541e-06 - mean_absolute_error: 0.0017 - val_loss: 0.0014 - val_mean_absolute_error: 0.0273\n",
            "Epoch 3/25\n",
            "109/109 [==============================] - 9s 84ms/step - loss: 8.9544e-06 - mean_absolute_error: 0.0017 - val_loss: 0.0014 - val_mean_absolute_error: 0.0270\n",
            "Epoch 4/25\n",
            "109/109 [==============================] - 8s 72ms/step - loss: 8.9887e-06 - mean_absolute_error: 0.0019 - val_loss: 0.0020 - val_mean_absolute_error: 0.0329\n",
            "Epoch 5/25\n",
            "109/109 [==============================] - 8s 77ms/step - loss: 7.7656e-06 - mean_absolute_error: 0.0017 - val_loss: 0.0017 - val_mean_absolute_error: 0.0307\n",
            "Epoch 6/25\n",
            "109/109 [==============================] - 9s 83ms/step - loss: 7.4999e-06 - mean_absolute_error: 0.0016 - val_loss: 0.0022 - val_mean_absolute_error: 0.0368\n",
            "Epoch 7/25\n",
            "109/109 [==============================] - 8s 72ms/step - loss: 7.9577e-06 - mean_absolute_error: 0.0018 - val_loss: 0.0012 - val_mean_absolute_error: 0.0246\n",
            "Epoch 8/25\n",
            "109/109 [==============================] - 9s 78ms/step - loss: 7.5833e-06 - mean_absolute_error: 0.0017 - val_loss: 0.0019 - val_mean_absolute_error: 0.0336\n",
            "Epoch 9/25\n",
            "109/109 [==============================] - 9s 81ms/step - loss: 7.7906e-06 - mean_absolute_error: 0.0017 - val_loss: 0.0011 - val_mean_absolute_error: 0.0238\n",
            "Epoch 10/25\n",
            "109/109 [==============================] - 7s 67ms/step - loss: 7.4576e-06 - mean_absolute_error: 0.0016 - val_loss: 0.0016 - val_mean_absolute_error: 0.0300\n",
            "Epoch 11/25\n",
            "109/109 [==============================] - 9s 79ms/step - loss: 8.0784e-06 - mean_absolute_error: 0.0017 - val_loss: 0.0016 - val_mean_absolute_error: 0.0298\n",
            "Epoch 12/25\n",
            "109/109 [==============================] - 8s 72ms/step - loss: 7.5753e-06 - mean_absolute_error: 0.0017 - val_loss: 0.0014 - val_mean_absolute_error: 0.0273\n",
            "Epoch 13/25\n",
            "109/109 [==============================] - 8s 77ms/step - loss: 7.3656e-06 - mean_absolute_error: 0.0016 - val_loss: 5.3420e-04 - val_mean_absolute_error: 0.0154\n",
            "Epoch 14/25\n",
            "109/109 [==============================] - 9s 86ms/step - loss: 7.2119e-06 - mean_absolute_error: 0.0016 - val_loss: 0.0015 - val_mean_absolute_error: 0.0293\n",
            "Epoch 15/25\n",
            "109/109 [==============================] - 8s 69ms/step - loss: 7.1529e-06 - mean_absolute_error: 0.0016 - val_loss: 0.0013 - val_mean_absolute_error: 0.0258\n",
            "Epoch 16/25\n",
            "109/109 [==============================] - 8s 76ms/step - loss: 7.6928e-06 - mean_absolute_error: 0.0018 - val_loss: 0.0016 - val_mean_absolute_error: 0.0302\n",
            "Epoch 17/25\n",
            "109/109 [==============================] - 9s 78ms/step - loss: 7.6456e-06 - mean_absolute_error: 0.0017 - val_loss: 8.2491e-04 - val_mean_absolute_error: 0.0197\n",
            "Epoch 18/25\n",
            "109/109 [==============================] - 7s 67ms/step - loss: 7.5464e-06 - mean_absolute_error: 0.0017 - val_loss: 0.0017 - val_mean_absolute_error: 0.0309\n",
            "Epoch 19/25\n",
            "109/109 [==============================] - 9s 79ms/step - loss: 7.4448e-06 - mean_absolute_error: 0.0017 - val_loss: 0.0019 - val_mean_absolute_error: 0.0347\n",
            "Epoch 20/25\n",
            "109/109 [==============================] - 9s 79ms/step - loss: 8.4131e-06 - mean_absolute_error: 0.0019 - val_loss: 0.0015 - val_mean_absolute_error: 0.0296\n",
            "Epoch 21/25\n",
            "109/109 [==============================] - 8s 73ms/step - loss: 6.8859e-06 - mean_absolute_error: 0.0017 - val_loss: 0.0011 - val_mean_absolute_error: 0.0235\n",
            "Epoch 22/25\n",
            "109/109 [==============================] - 9s 85ms/step - loss: 6.3093e-06 - mean_absolute_error: 0.0015 - val_loss: 0.0026 - val_mean_absolute_error: 0.0416\n",
            "Epoch 23/25\n",
            "109/109 [==============================] - 9s 80ms/step - loss: 6.0855e-06 - mean_absolute_error: 0.0015 - val_loss: 9.3981e-04 - val_mean_absolute_error: 0.0211\n",
            "Epoch 24/25\n",
            "109/109 [==============================] - 7s 68ms/step - loss: 6.2546e-06 - mean_absolute_error: 0.0015 - val_loss: 8.4079e-04 - val_mean_absolute_error: 0.0201\n",
            "Epoch 25/25\n",
            "109/109 [==============================] - 9s 85ms/step - loss: 6.2975e-06 - mean_absolute_error: 0.0016 - val_loss: 0.0011 - val_mean_absolute_error: 0.0225\n"
          ]
        },
        {
          "output_type": "execute_result",
          "data": {
            "text/plain": [
              "<keras.callbacks.History at 0x7fec6e447640>"
            ]
          },
          "metadata": {},
          "execution_count": 37
        }
      ]
    },
    {
      "cell_type": "code",
      "source": [
        "test_predicted = model.predict(test_seq)\n",
        "test_predicted[:5]"
      ],
      "metadata": {
        "colab": {
          "base_uri": "https://localhost:8080/"
        },
        "id": "510GTBfxEO8V",
        "outputId": "f636aefe-5519-4691-f30b-8634c3650650"
      },
      "execution_count": 38,
      "outputs": [
        {
          "output_type": "stream",
          "name": "stdout",
          "text": [
            "46/46 [==============================] - 2s 18ms/step\n"
          ]
        },
        {
          "output_type": "execute_result",
          "data": {
            "text/plain": [
              "array([[0.1374299 , 0.1357145 ],\n",
              "       [0.13852826, 0.13679235],\n",
              "       [0.13892105, 0.13717487],\n",
              "       [0.13854024, 0.13679421],\n",
              "       [0.13873379, 0.13698213]], dtype=float32)"
            ]
          },
          "metadata": {},
          "execution_count": 38
        }
      ]
    },
    {
      "cell_type": "code",
      "source": [
        "test_inverse_predicted = MMS.inverse_transform(test_predicted)\n",
        "test_inverse_predicted[:5]"
      ],
      "metadata": {
        "colab": {
          "base_uri": "https://localhost:8080/"
        },
        "id": "beqmm8l4H9kx",
        "outputId": "8dc9aebf-b70a-4a3b-ea5c-aaf218f6a5bc"
      },
      "execution_count": 41,
      "outputs": [
        {
          "output_type": "execute_result",
          "data": {
            "text/plain": [
              "array([[95.47551 , 94.19462 ],\n",
              "       [96.23554 , 94.93976 ],\n",
              "       [96.50735 , 95.2042  ],\n",
              "       [96.243835, 94.94104 ],\n",
              "       [96.37777 , 95.07095 ]], dtype=float32)"
            ]
          },
          "metadata": {},
          "execution_count": 41
        }
      ]
    },
    {
      "cell_type": "code",
      "source": [
        "gs_slic_data = pd.concat([netflix_stock_data.iloc[-1463:].copy(),pd.DataFrame(test_inverse_predicted,columns=['open_predicted','close_predicted'],index=netflix_stock_data.iloc[-1463:].index)], axis=1)"
      ],
      "metadata": {
        "id": "dvjY86UmIOJo"
      },
      "execution_count": 43,
      "outputs": []
    },
    {
      "cell_type": "code",
      "source": [
        "gs_slic_data[['Open','Close']] = MMS.inverse_transform(gs_slic_data[['Open','Close']])"
      ],
      "metadata": {
        "id": "wK5jCypkISA1"
      },
      "execution_count": 44,
      "outputs": []
    },
    {
      "cell_type": "code",
      "source": [
        "gs_slic_data.head()"
      ],
      "metadata": {
        "colab": {
          "base_uri": "https://localhost:8080/",
          "height": 238
        },
        "id": "afsoCJXBI7RS",
        "outputId": "6b750a79-a94d-48a3-cac1-9d7e579d8f6d"
      },
      "execution_count": 45,
      "outputs": [
        {
          "output_type": "execute_result",
          "data": {
            "text/plain": [
              "                 Open      Close  open_predicted  close_predicted\n",
              "Date                                                             \n",
              "2016-08-12  95.529999  96.589996       95.475510        94.194618\n",
              "2016-08-15  96.830002  95.309998       96.235542        94.939758\n",
              "2016-08-16  95.190002  95.120003       96.507347        95.204201\n",
              "2016-08-17  94.940002  96.370003       96.243835        94.941040\n",
              "2016-08-18  95.980003  96.160004       96.377769        95.070953"
            ],
            "text/html": [
              "\n",
              "  <div id=\"df-8e48a606-5367-42c6-98de-d4c0c7f7c7c8\">\n",
              "    <div class=\"colab-df-container\">\n",
              "      <div>\n",
              "<style scoped>\n",
              "    .dataframe tbody tr th:only-of-type {\n",
              "        vertical-align: middle;\n",
              "    }\n",
              "\n",
              "    .dataframe tbody tr th {\n",
              "        vertical-align: top;\n",
              "    }\n",
              "\n",
              "    .dataframe thead th {\n",
              "        text-align: right;\n",
              "    }\n",
              "</style>\n",
              "<table border=\"1\" class=\"dataframe\">\n",
              "  <thead>\n",
              "    <tr style=\"text-align: right;\">\n",
              "      <th></th>\n",
              "      <th>Open</th>\n",
              "      <th>Close</th>\n",
              "      <th>open_predicted</th>\n",
              "      <th>close_predicted</th>\n",
              "    </tr>\n",
              "    <tr>\n",
              "      <th>Date</th>\n",
              "      <th></th>\n",
              "      <th></th>\n",
              "      <th></th>\n",
              "      <th></th>\n",
              "    </tr>\n",
              "  </thead>\n",
              "  <tbody>\n",
              "    <tr>\n",
              "      <th>2016-08-12</th>\n",
              "      <td>95.529999</td>\n",
              "      <td>96.589996</td>\n",
              "      <td>95.475510</td>\n",
              "      <td>94.194618</td>\n",
              "    </tr>\n",
              "    <tr>\n",
              "      <th>2016-08-15</th>\n",
              "      <td>96.830002</td>\n",
              "      <td>95.309998</td>\n",
              "      <td>96.235542</td>\n",
              "      <td>94.939758</td>\n",
              "    </tr>\n",
              "    <tr>\n",
              "      <th>2016-08-16</th>\n",
              "      <td>95.190002</td>\n",
              "      <td>95.120003</td>\n",
              "      <td>96.507347</td>\n",
              "      <td>95.204201</td>\n",
              "    </tr>\n",
              "    <tr>\n",
              "      <th>2016-08-17</th>\n",
              "      <td>94.940002</td>\n",
              "      <td>96.370003</td>\n",
              "      <td>96.243835</td>\n",
              "      <td>94.941040</td>\n",
              "    </tr>\n",
              "    <tr>\n",
              "      <th>2016-08-18</th>\n",
              "      <td>95.980003</td>\n",
              "      <td>96.160004</td>\n",
              "      <td>96.377769</td>\n",
              "      <td>95.070953</td>\n",
              "    </tr>\n",
              "  </tbody>\n",
              "</table>\n",
              "</div>\n",
              "      <button class=\"colab-df-convert\" onclick=\"convertToInteractive('df-8e48a606-5367-42c6-98de-d4c0c7f7c7c8')\"\n",
              "              title=\"Convert this dataframe to an interactive table.\"\n",
              "              style=\"display:none;\">\n",
              "        \n",
              "  <svg xmlns=\"http://www.w3.org/2000/svg\" height=\"24px\"viewBox=\"0 0 24 24\"\n",
              "       width=\"24px\">\n",
              "    <path d=\"M0 0h24v24H0V0z\" fill=\"none\"/>\n",
              "    <path d=\"M18.56 5.44l.94 2.06.94-2.06 2.06-.94-2.06-.94-.94-2.06-.94 2.06-2.06.94zm-11 1L8.5 8.5l.94-2.06 2.06-.94-2.06-.94L8.5 2.5l-.94 2.06-2.06.94zm10 10l.94 2.06.94-2.06 2.06-.94-2.06-.94-.94-2.06-.94 2.06-2.06.94z\"/><path d=\"M17.41 7.96l-1.37-1.37c-.4-.4-.92-.59-1.43-.59-.52 0-1.04.2-1.43.59L10.3 9.45l-7.72 7.72c-.78.78-.78 2.05 0 2.83L4 21.41c.39.39.9.59 1.41.59.51 0 1.02-.2 1.41-.59l7.78-7.78 2.81-2.81c.8-.78.8-2.07 0-2.86zM5.41 20L4 18.59l7.72-7.72 1.47 1.35L5.41 20z\"/>\n",
              "  </svg>\n",
              "      </button>\n",
              "      \n",
              "  <style>\n",
              "    .colab-df-container {\n",
              "      display:flex;\n",
              "      flex-wrap:wrap;\n",
              "      gap: 12px;\n",
              "    }\n",
              "\n",
              "    .colab-df-convert {\n",
              "      background-color: #E8F0FE;\n",
              "      border: none;\n",
              "      border-radius: 50%;\n",
              "      cursor: pointer;\n",
              "      display: none;\n",
              "      fill: #1967D2;\n",
              "      height: 32px;\n",
              "      padding: 0 0 0 0;\n",
              "      width: 32px;\n",
              "    }\n",
              "\n",
              "    .colab-df-convert:hover {\n",
              "      background-color: #E2EBFA;\n",
              "      box-shadow: 0px 1px 2px rgba(60, 64, 67, 0.3), 0px 1px 3px 1px rgba(60, 64, 67, 0.15);\n",
              "      fill: #174EA6;\n",
              "    }\n",
              "\n",
              "    [theme=dark] .colab-df-convert {\n",
              "      background-color: #3B4455;\n",
              "      fill: #D2E3FC;\n",
              "    }\n",
              "\n",
              "    [theme=dark] .colab-df-convert:hover {\n",
              "      background-color: #434B5C;\n",
              "      box-shadow: 0px 1px 3px 1px rgba(0, 0, 0, 0.15);\n",
              "      filter: drop-shadow(0px 1px 2px rgba(0, 0, 0, 0.3));\n",
              "      fill: #FFFFFF;\n",
              "    }\n",
              "  </style>\n",
              "\n",
              "      <script>\n",
              "        const buttonEl =\n",
              "          document.querySelector('#df-8e48a606-5367-42c6-98de-d4c0c7f7c7c8 button.colab-df-convert');\n",
              "        buttonEl.style.display =\n",
              "          google.colab.kernel.accessAllowed ? 'block' : 'none';\n",
              "\n",
              "        async function convertToInteractive(key) {\n",
              "          const element = document.querySelector('#df-8e48a606-5367-42c6-98de-d4c0c7f7c7c8');\n",
              "          const dataTable =\n",
              "            await google.colab.kernel.invokeFunction('convertToInteractive',\n",
              "                                                     [key], {});\n",
              "          if (!dataTable) return;\n",
              "\n",
              "          const docLinkHtml = 'Like what you see? Visit the ' +\n",
              "            '<a target=\"_blank\" href=https://colab.research.google.com/notebooks/data_table.ipynb>data table notebook</a>'\n",
              "            + ' to learn more about interactive tables.';\n",
              "          element.innerHTML = '';\n",
              "          dataTable['output_type'] = 'display_data';\n",
              "          await google.colab.output.renderOutput(dataTable, element);\n",
              "          const docLink = document.createElement('div');\n",
              "          docLink.innerHTML = docLinkHtml;\n",
              "          element.appendChild(docLink);\n",
              "        }\n",
              "      </script>\n",
              "    </div>\n",
              "  </div>\n",
              "  "
            ]
          },
          "metadata": {},
          "execution_count": 45
        }
      ]
    },
    {
      "cell_type": "code",
      "source": [
        "gs_slic_data = gs_slic_data.append(pd.DataFrame(columns=gs_slic_data.columns,index=pd.date_range(start=gs_slic_data.index[-1], periods=11, freq='D', closed='right')))"
      ],
      "metadata": {
        "id": "2lSQ2viXJMeO"
      },
      "execution_count": 46,
      "outputs": []
    },
    {
      "cell_type": "code",
      "source": [
        "gs_slic_data['2022-05-31\t':'2022-06-08']"
      ],
      "metadata": {
        "colab": {
          "base_uri": "https://localhost:8080/",
          "height": 332
        },
        "id": "lgY7ORAbJQ05",
        "outputId": "42e49b49-4e0c-4b39-a3c4-9f5d83901d98"
      },
      "execution_count": 47,
      "outputs": [
        {
          "output_type": "execute_result",
          "data": {
            "text/plain": [
              "                  Open       Close  open_predicted  close_predicted\n",
              "2022-05-31  196.179993  197.440002      192.261154       188.384094\n",
              "2022-06-01  198.699997  192.910004      195.932495       191.950653\n",
              "2022-06-02  192.020004  205.089996      196.336121       192.341843\n",
              "2022-06-03  200.139999  198.979996      199.023254       194.949829\n",
              "2022-06-04         NaN         NaN             NaN              NaN\n",
              "2022-06-05         NaN         NaN             NaN              NaN\n",
              "2022-06-06         NaN         NaN             NaN              NaN\n",
              "2022-06-07         NaN         NaN             NaN              NaN\n",
              "2022-06-08         NaN         NaN             NaN              NaN"
            ],
            "text/html": [
              "\n",
              "  <div id=\"df-629bdd7e-fc9a-43bd-8ea7-5165ff0d0a61\">\n",
              "    <div class=\"colab-df-container\">\n",
              "      <div>\n",
              "<style scoped>\n",
              "    .dataframe tbody tr th:only-of-type {\n",
              "        vertical-align: middle;\n",
              "    }\n",
              "\n",
              "    .dataframe tbody tr th {\n",
              "        vertical-align: top;\n",
              "    }\n",
              "\n",
              "    .dataframe thead th {\n",
              "        text-align: right;\n",
              "    }\n",
              "</style>\n",
              "<table border=\"1\" class=\"dataframe\">\n",
              "  <thead>\n",
              "    <tr style=\"text-align: right;\">\n",
              "      <th></th>\n",
              "      <th>Open</th>\n",
              "      <th>Close</th>\n",
              "      <th>open_predicted</th>\n",
              "      <th>close_predicted</th>\n",
              "    </tr>\n",
              "  </thead>\n",
              "  <tbody>\n",
              "    <tr>\n",
              "      <th>2022-05-31</th>\n",
              "      <td>196.179993</td>\n",
              "      <td>197.440002</td>\n",
              "      <td>192.261154</td>\n",
              "      <td>188.384094</td>\n",
              "    </tr>\n",
              "    <tr>\n",
              "      <th>2022-06-01</th>\n",
              "      <td>198.699997</td>\n",
              "      <td>192.910004</td>\n",
              "      <td>195.932495</td>\n",
              "      <td>191.950653</td>\n",
              "    </tr>\n",
              "    <tr>\n",
              "      <th>2022-06-02</th>\n",
              "      <td>192.020004</td>\n",
              "      <td>205.089996</td>\n",
              "      <td>196.336121</td>\n",
              "      <td>192.341843</td>\n",
              "    </tr>\n",
              "    <tr>\n",
              "      <th>2022-06-03</th>\n",
              "      <td>200.139999</td>\n",
              "      <td>198.979996</td>\n",
              "      <td>199.023254</td>\n",
              "      <td>194.949829</td>\n",
              "    </tr>\n",
              "    <tr>\n",
              "      <th>2022-06-04</th>\n",
              "      <td>NaN</td>\n",
              "      <td>NaN</td>\n",
              "      <td>NaN</td>\n",
              "      <td>NaN</td>\n",
              "    </tr>\n",
              "    <tr>\n",
              "      <th>2022-06-05</th>\n",
              "      <td>NaN</td>\n",
              "      <td>NaN</td>\n",
              "      <td>NaN</td>\n",
              "      <td>NaN</td>\n",
              "    </tr>\n",
              "    <tr>\n",
              "      <th>2022-06-06</th>\n",
              "      <td>NaN</td>\n",
              "      <td>NaN</td>\n",
              "      <td>NaN</td>\n",
              "      <td>NaN</td>\n",
              "    </tr>\n",
              "    <tr>\n",
              "      <th>2022-06-07</th>\n",
              "      <td>NaN</td>\n",
              "      <td>NaN</td>\n",
              "      <td>NaN</td>\n",
              "      <td>NaN</td>\n",
              "    </tr>\n",
              "    <tr>\n",
              "      <th>2022-06-08</th>\n",
              "      <td>NaN</td>\n",
              "      <td>NaN</td>\n",
              "      <td>NaN</td>\n",
              "      <td>NaN</td>\n",
              "    </tr>\n",
              "  </tbody>\n",
              "</table>\n",
              "</div>\n",
              "      <button class=\"colab-df-convert\" onclick=\"convertToInteractive('df-629bdd7e-fc9a-43bd-8ea7-5165ff0d0a61')\"\n",
              "              title=\"Convert this dataframe to an interactive table.\"\n",
              "              style=\"display:none;\">\n",
              "        \n",
              "  <svg xmlns=\"http://www.w3.org/2000/svg\" height=\"24px\"viewBox=\"0 0 24 24\"\n",
              "       width=\"24px\">\n",
              "    <path d=\"M0 0h24v24H0V0z\" fill=\"none\"/>\n",
              "    <path d=\"M18.56 5.44l.94 2.06.94-2.06 2.06-.94-2.06-.94-.94-2.06-.94 2.06-2.06.94zm-11 1L8.5 8.5l.94-2.06 2.06-.94-2.06-.94L8.5 2.5l-.94 2.06-2.06.94zm10 10l.94 2.06.94-2.06 2.06-.94-2.06-.94-.94-2.06-.94 2.06-2.06.94z\"/><path d=\"M17.41 7.96l-1.37-1.37c-.4-.4-.92-.59-1.43-.59-.52 0-1.04.2-1.43.59L10.3 9.45l-7.72 7.72c-.78.78-.78 2.05 0 2.83L4 21.41c.39.39.9.59 1.41.59.51 0 1.02-.2 1.41-.59l7.78-7.78 2.81-2.81c.8-.78.8-2.07 0-2.86zM5.41 20L4 18.59l7.72-7.72 1.47 1.35L5.41 20z\"/>\n",
              "  </svg>\n",
              "      </button>\n",
              "      \n",
              "  <style>\n",
              "    .colab-df-container {\n",
              "      display:flex;\n",
              "      flex-wrap:wrap;\n",
              "      gap: 12px;\n",
              "    }\n",
              "\n",
              "    .colab-df-convert {\n",
              "      background-color: #E8F0FE;\n",
              "      border: none;\n",
              "      border-radius: 50%;\n",
              "      cursor: pointer;\n",
              "      display: none;\n",
              "      fill: #1967D2;\n",
              "      height: 32px;\n",
              "      padding: 0 0 0 0;\n",
              "      width: 32px;\n",
              "    }\n",
              "\n",
              "    .colab-df-convert:hover {\n",
              "      background-color: #E2EBFA;\n",
              "      box-shadow: 0px 1px 2px rgba(60, 64, 67, 0.3), 0px 1px 3px 1px rgba(60, 64, 67, 0.15);\n",
              "      fill: #174EA6;\n",
              "    }\n",
              "\n",
              "    [theme=dark] .colab-df-convert {\n",
              "      background-color: #3B4455;\n",
              "      fill: #D2E3FC;\n",
              "    }\n",
              "\n",
              "    [theme=dark] .colab-df-convert:hover {\n",
              "      background-color: #434B5C;\n",
              "      box-shadow: 0px 1px 3px 1px rgba(0, 0, 0, 0.15);\n",
              "      filter: drop-shadow(0px 1px 2px rgba(0, 0, 0, 0.3));\n",
              "      fill: #FFFFFF;\n",
              "    }\n",
              "  </style>\n",
              "\n",
              "      <script>\n",
              "        const buttonEl =\n",
              "          document.querySelector('#df-629bdd7e-fc9a-43bd-8ea7-5165ff0d0a61 button.colab-df-convert');\n",
              "        buttonEl.style.display =\n",
              "          google.colab.kernel.accessAllowed ? 'block' : 'none';\n",
              "\n",
              "        async function convertToInteractive(key) {\n",
              "          const element = document.querySelector('#df-629bdd7e-fc9a-43bd-8ea7-5165ff0d0a61');\n",
              "          const dataTable =\n",
              "            await google.colab.kernel.invokeFunction('convertToInteractive',\n",
              "                                                     [key], {});\n",
              "          if (!dataTable) return;\n",
              "\n",
              "          const docLinkHtml = 'Like what you see? Visit the ' +\n",
              "            '<a target=\"_blank\" href=https://colab.research.google.com/notebooks/data_table.ipynb>data table notebook</a>'\n",
              "            + ' to learn more about interactive tables.';\n",
              "          element.innerHTML = '';\n",
              "          dataTable['output_type'] = 'display_data';\n",
              "          await google.colab.output.renderOutput(dataTable, element);\n",
              "          const docLink = document.createElement('div');\n",
              "          docLink.innerHTML = docLinkHtml;\n",
              "          element.appendChild(docLink);\n",
              "        }\n",
              "      </script>\n",
              "    </div>\n",
              "  </div>\n",
              "  "
            ]
          },
          "metadata": {},
          "execution_count": 47
        }
      ]
    },
    {
      "cell_type": "code",
      "source": [
        "upcoming_prediction = pd.DataFrame(columns=['Open','Close'],index=gs_slic_data.index)\n",
        "upcoming_prediction.index=pd.to_datetime(upcoming_prediction.index)\n"
      ],
      "metadata": {
        "id": "CjGGgxMPKCsK"
      },
      "execution_count": 48,
      "outputs": []
    },
    {
      "cell_type": "code",
      "source": [
        "curr_seq = test_seq[-1:]\n",
        "\n",
        "for i in range(-10,0):\n",
        "  up_pred = model.predict(curr_seq)\n",
        "  upcoming_prediction.iloc[i] = up_pred\n",
        "  curr_seq = np.append(curr_seq[0][1:],up_pred,axis=0)\n",
        "  curr_seq = curr_seq.reshape(test_seq[-1:].shape)"
      ],
      "metadata": {
        "colab": {
          "base_uri": "https://localhost:8080/"
        },
        "id": "taVeFXk1KGu1",
        "outputId": "6dd3cd5e-041e-4d58-f28b-30fe85fca7f0"
      },
      "execution_count": 49,
      "outputs": [
        {
          "output_type": "stream",
          "name": "stdout",
          "text": [
            "1/1 [==============================] - 0s 32ms/step\n",
            "1/1 [==============================] - 0s 29ms/step\n",
            "1/1 [==============================] - 0s 28ms/step\n",
            "1/1 [==============================] - 0s 29ms/step\n",
            "1/1 [==============================] - 0s 34ms/step\n",
            "1/1 [==============================] - 0s 28ms/step\n",
            "1/1 [==============================] - 0s 29ms/step\n",
            "1/1 [==============================] - 0s 32ms/step\n",
            "1/1 [==============================] - 0s 29ms/step\n",
            "1/1 [==============================] - 0s 27ms/step\n"
          ]
        }
      ]
    },
    {
      "cell_type": "code",
      "source": [
        "upcoming_prediction[['Open','Close']] = MMS.inverse_transform(upcoming_prediction[['Open','Close']])"
      ],
      "metadata": {
        "id": "9K7KfnYdKHR_"
      },
      "execution_count": 50,
      "outputs": []
    },
    {
      "cell_type": "code",
      "source": [
        "fg,ax=plt.subplots(figsize=(10,5))\n",
        "ax.plot(gs_slic_data.loc['2022-04-01':,'Close'],label='Current Close Price')\n",
        "ax.plot(upcoming_prediction.loc['2022-04-01':,'Close'],label='Upcoming close Price')\n",
        "plt.setp(ax.xaxis.get_majorticklabels(), rotation=45)\n",
        "ax.set_xlabel('Date',size=15)\n",
        "ax.set_ylabel('Stock Price',size=15)\n",
        "ax.set_title('Upcoming close price prediction',size=15)\n",
        "ax.legend()\n",
        "fg.show()"
      ],
      "metadata": {
        "colab": {
          "base_uri": "https://localhost:8080/",
          "height": 395
        },
        "id": "HO9ptoxjKOWN",
        "outputId": "b36bf4a2-8230-408f-88ed-67c43431480a"
      },
      "execution_count": 51,
      "outputs": [
        {
          "output_type": "display_data",
          "data": {
            "text/plain": [
              "<Figure size 720x360 with 1 Axes>"
            ],
            "image/png": "[encoded data removed]"
          },
          "metadata": {
            "needs_background": "light"
          }
        }
      ]
    }
  ]
}